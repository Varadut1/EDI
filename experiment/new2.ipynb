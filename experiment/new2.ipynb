{
 "cells": [
  {
   "cell_type": "code",
   "execution_count": 2,
   "metadata": {},
   "outputs": [
    {
     "name": "stdout",
     "output_type": "stream",
     "text": [
      "1*x**2+5*x+6\n",
      "[-3, -2]\n"
     ]
    }
   ],
   "source": [
    "import sympy as sm\n",
    "x = sm.symbols('x')\n",
    "y = sm.symbols('y')\n",
    "z = sm.symbols('z')\n",
    "symbols = { '0': 0, '1': 1, '2': 2, '3': 3, '4': 4, '5': 5, '6': 6, '7': 7, '8': 8, '9': 9, 'x': x, 'y': y, 'z': z, 'pow': '**', }\n",
    "l = [('1', 'normal'),('x', 'normal'),('2', 'pow'),('+', 'symbol'),('5', 'normal'),('x', 'normal'),('+', 'symbol'),('6', 'normal')]\n",
    "exp = ''\n",
    "for i in range(len(l)):\n",
    "    if l[i][1]=='pow':\n",
    "        exp+='**'+l[i][0]\n",
    "    elif l[i][1]=='symbol' or i==0:\n",
    "        exp+=l[i][0]\n",
    "    elif i!=0 and l[i-1][1]!='symbol':\n",
    "        exp+='*'+l[i][0]\n",
    "    else:\n",
    "        exp+=l[i][0]\n",
    "\n",
    "print(exp)\n",
    "exp = sm.sympify(exp)\n",
    "print(sm.solve(exp, x))\n"
   ]
  }
 ],
 "metadata": {
  "kernelspec": {
   "display_name": "Python 3",
   "language": "python",
   "name": "python3"
  },
  "language_info": {
   "codemirror_mode": {
    "name": "ipython",
    "version": 3
   },
   "file_extension": ".py",
   "mimetype": "text/x-python",
   "name": "python",
   "nbconvert_exporter": "python",
   "pygments_lexer": "ipython3",
   "version": "3.11.4"
  },
  "orig_nbformat": 4
 },
 "nbformat": 4,
 "nbformat_minor": 2
}
