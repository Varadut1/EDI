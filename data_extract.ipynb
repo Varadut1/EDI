{
 "cells": [
  {
   "cell_type": "code",
   "execution_count": 2,
   "metadata": {},
   "outputs": [],
   "source": [
    "import os\n",
    "import xml.etree.ElementTree as ET\n",
    "import numpy as np\n",
    "import cv2"
   ]
  },
  {
   "cell_type": "code",
   "execution_count": 3,
   "metadata": {},
   "outputs": [
    {
     "name": "stdout",
     "output_type": "stream",
     "text": [
      "Data and labels saved successfully.\n"
     ]
    }
   ],
   "source": [
    "# Define functions for data preprocessing and loading\n",
    "def parse_inkml(inkml_file):\n",
    "    tree = ET.parse(inkml_file)\n",
    "    root = tree.getroot()\n",
    "    \n",
    "    # Extract strokes and label from the InkML file\n",
    "    strokes = []\n",
    "    label = None\n",
    "    \n",
    "    for trace_group in root.iter('{http://www.w3.org/2003/InkML}traceGroup'):\n",
    "        strokes_data = []\n",
    "        for trace in trace_group.iter('{http://www.w3.org/2003/InkML}trace'):\n",
    "            trace_points = trace.text.strip().split(',')\n",
    "            trace_points = [list(map(int, point.split())) for point in trace_points]\n",
    "            strokes_data.append(trace_points)\n",
    "        strokes.append(strokes_data)\n",
    "    \n",
    "    for annotation in root.iter('{http://www.w3.org/2003/InkML}annotation'):\n",
    "        if annotation.attrib.get('type') == 'truth':\n",
    "            label = annotation.text.strip()\n",
    "    \n",
    "    return strokes, label\n",
    "\n",
    "def strokes_to_image(strokes, image_size=(128, 128)):\n",
    "    # Create an empty canvas\n",
    "    canvas = np.zeros((image_size[0], image_size[1], 3), dtype=np.uint8)\n",
    "    \n",
    "    # Draw strokes onto the canvas\n",
    "    for stroke in strokes:\n",
    "        for i in range(1, len(stroke)):\n",
    "            cv2.line(canvas, tuple(stroke[i-1]), tuple(stroke[i]), (255, 255, 255), 2)\n",
    "    \n",
    "    # Resize the canvas to the desired image size\n",
    "    canvas = cv2.resize(canvas, image_size)\n",
    "    \n",
    "    return canvas\n",
    "\n",
    "# Specify the directory containing the InkML files\n",
    "directory = 'c:\\\\Users\\\\DELL\\\\Desktop\\\\lab\\\\.vscode\\\\train'\n",
    "\n",
    "# Create a list to store processed data and labels\n",
    "data = []\n",
    "labels = []\n",
    "\n",
    "# Loop through all files in the directory\n",
    "for filename in os.listdir(directory):\n",
    "    if filename.endswith('.inkml'):\n",
    "        # Construct the full file path\n",
    "        file_path = os.path.join(directory, filename)\n",
    "\n",
    "        # Parse the InkML file\n",
    "        strokes, label = parse_inkml(file_path)\n",
    "\n",
    "        # Convert strokes to images\n",
    "        image = strokes_to_image(strokes)\n",
    "\n",
    "        # Append data and labels\n",
    "        data.append(image)\n",
    "        labels.append(label)\n",
    "\n",
    "# Convert data and labels to NumPy arrays\n",
    "data_array = np.array(data)\n",
    "labels_array = np.array(labels)\n",
    "\n",
    "# Save data and labels as NumPy arrays\n",
    "np.save('data.npy', data_array)\n",
    "np.save('labels.npy', labels_array)\n",
    "\n",
    "print(\"Data and labels saved successfully.\")"
   ]
  },
  {
   "cell_type": "code",
   "execution_count": 6,
   "metadata": {},
   "outputs": [
    {
     "name": "stdout",
     "output_type": "stream",
     "text": [
      "Epoch 1/10\n"
     ]
    },
    {
     "name": "stderr",
     "output_type": "stream",
     "text": [
      "c:\\Users\\DELL\\AppData\\Local\\Programs\\Python\\Python39\\lib\\site-packages\\keras\\src\\backend.py:5714: UserWarning: \"`sparse_categorical_crossentropy` received `from_logits=True`, but the `output` argument was produced by a Softmax activation and thus does not represent logits. Was this intended?\n",
      "  output, from_logits = _get_logits(\n"
     ]
    },
    {
     "name": "stdout",
     "output_type": "stream",
     "text": [
      "34/34 [==============================] - 23s 604ms/step - loss: 3.9215 - accuracy: 0.1009 - val_loss: 3.9097 - val_accuracy: 0.0858\n",
      "Epoch 2/10\n",
      "34/34 [==============================] - 20s 590ms/step - loss: 3.8996 - accuracy: 0.1159 - val_loss: 3.8892 - val_accuracy: 0.0858\n",
      "Epoch 3/10\n",
      "34/34 [==============================] - 20s 577ms/step - loss: 3.8788 - accuracy: 0.1159 - val_loss: 3.8692 - val_accuracy: 0.0858\n",
      "Epoch 4/10\n",
      "34/34 [==============================] - 19s 566ms/step - loss: 3.8584 - accuracy: 0.1159 - val_loss: 3.8502 - val_accuracy: 0.0858\n",
      "Epoch 5/10\n",
      "34/34 [==============================] - 20s 595ms/step - loss: 3.8384 - accuracy: 0.1159 - val_loss: 3.8318 - val_accuracy: 0.0858\n",
      "Epoch 6/10\n",
      "34/34 [==============================] - 22s 650ms/step - loss: 3.8193 - accuracy: 0.1159 - val_loss: 3.8137 - val_accuracy: 0.0858\n",
      "Epoch 7/10\n",
      "34/34 [==============================] - 21s 624ms/step - loss: 3.8005 - accuracy: 0.1159 - val_loss: 3.7965 - val_accuracy: 0.0858\n",
      "Epoch 8/10\n",
      "34/34 [==============================] - 22s 662ms/step - loss: 3.7825 - accuracy: 0.1159 - val_loss: 3.7801 - val_accuracy: 0.0858\n",
      "Epoch 9/10\n",
      "34/34 [==============================] - 23s 670ms/step - loss: 3.7652 - accuracy: 0.1159 - val_loss: 3.7636 - val_accuracy: 0.0858\n",
      "Epoch 10/10\n",
      "34/34 [==============================] - 22s 643ms/step - loss: 3.7483 - accuracy: 0.1159 - val_loss: 3.7486 - val_accuracy: 0.0858\n"
     ]
    },
    {
     "name": "stderr",
     "output_type": "stream",
     "text": [
      "c:\\Users\\DELL\\AppData\\Local\\Programs\\Python\\Python39\\lib\\site-packages\\keras\\src\\engine\\training.py:3000: UserWarning: You are saving your model as an HDF5 file via `model.save()`. This file format is considered legacy. We recommend using instead the native Keras format, e.g. `model.save('my_model.keras')`.\n",
      "  saving_api.save_model(\n"
     ]
    },
    {
     "name": "stdout",
     "output_type": "stream",
     "text": [
      "Training completed, and the model has been saved.\n"
     ]
    },
    {
     "data": {
      "text/plain": [
       "['label_encoder.pkl']"
      ]
     },
     "execution_count": 6,
     "metadata": {},
     "output_type": "execute_result"
    }
   ],
   "source": [
    "import numpy as np\n",
    "import tensorflow as tf\n",
    "from tensorflow import keras\n",
    "from tensorflow.keras import layers\n",
    "from sklearn.preprocessing import LabelEncoder\n",
    "import joblib\n",
    "\n",
    "# Load the processed data and labels\n",
    "data = np.load('data.npy')\n",
    "labels = np.load('labels.npy')\n",
    "\n",
    "# Normalize the data to values between 0 and 1\n",
    "data = data / 255.0\n",
    "\n",
    "# Split the data into training and validation sets (you can adjust the split ratio)\n",
    "split_ratio = 0.8\n",
    "split_index = int(len(data) * split_ratio)\n",
    "\n",
    "x_train, x_val = data[:split_index], data[split_index:]\n",
    "y_train, y_val = labels[:split_index], labels[split_index:]\n",
    "\n",
    "# Encode the labels\n",
    "label_encoder = LabelEncoder()\n",
    "y_train_encoded = label_encoder.fit_transform(y_train)\n",
    "y_val_encoded = label_encoder.transform(y_val)\n",
    "\n",
    "num_classes = len(np.unique(labels))  # Number of unique equation classes\n",
    "\n",
    "model = keras.Sequential([\n",
    "    layers.Conv2D(32, (3, 3), activation='relu', input_shape=(128, 128, 3)),\n",
    "    layers.MaxPooling2D((2, 2)),\n",
    "    layers.Conv2D(64, (3, 3), activation='relu'),\n",
    "    layers.MaxPooling2D((2, 2)),\n",
    "    layers.Conv2D(64, (3, 3), activation='relu'),\n",
    "    layers.Flatten(),\n",
    "    layers.Dense(64, activation='relu'),\n",
    "    layers.Dense(num_classes, activation='softmax')  # Adjust the number of output neurons\n",
    "])\n",
    "\n",
    "\n",
    "# Compile the model\n",
    "model.compile(optimizer='adam',\n",
    "              loss=tf.keras.losses.SparseCategoricalCrossentropy(from_logits=True),\n",
    "              metrics=['accuracy'])\n",
    "\n",
    "# Train the model\n",
    "batch_size = 32  # You can adjust the batch size\n",
    "epochs = 10      # You can adjust the number of epochs\n",
    "\n",
    "history = model.fit(x_train, y_train_encoded, batch_size=batch_size, epochs=epochs,\n",
    "                    validation_data=(x_val, y_val_encoded))\n",
    "\n",
    "# Save the trained model\n",
    "model.save('trained_model.h5')\n",
    "\n",
    "print(\"Training completed, and the model has been saved.\")\n",
    "\n",
    "# Save the label encoder\n",
    "joblib.dump(label_encoder, 'label_encoder.pkl')\n"
   ]
  },
  {
   "cell_type": "code",
   "execution_count": 5,
   "metadata": {},
   "outputs": [
    {
     "name": "stdout",
     "output_type": "stream",
     "text": [
      "Number of unique equation classes: 51\n"
     ]
    }
   ],
   "source": [
    "print(\"Number of unique equation classes:\", len(np.unique(labels)))\n"
   ]
  }
 ],
 "metadata": {
  "kernelspec": {
   "display_name": "Python 3",
   "language": "python",
   "name": "python3"
  },
  "language_info": {
   "codemirror_mode": {
    "name": "ipython",
    "version": 3
   },
   "file_extension": ".py",
   "mimetype": "text/x-python",
   "name": "python",
   "nbconvert_exporter": "python",
   "pygments_lexer": "ipython3",
   "version": "3.9.1"
  },
  "orig_nbformat": 4
 },
 "nbformat": 4,
 "nbformat_minor": 2
}
